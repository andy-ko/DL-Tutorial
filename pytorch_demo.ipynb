{
  "nbformat": 4,
  "nbformat_minor": 0,
  "metadata": {
    "colab": {
      "name": "pytorch_demo.ipynb",
      "version": "0.3.2",
      "provenance": [],
      "include_colab_link": true
    },
    "kernelspec": {
      "name": "python3",
      "display_name": "Python 3"
    },
    "accelerator": "GPU"
  },
  "cells": [
    {
      "cell_type": "markdown",
      "metadata": {
        "id": "view-in-github",
        "colab_type": "text"
      },
      "source": [
        "<a href=\"https://colab.research.google.com/github/andy-ko/DL-Tutorial/blob/master/pytorch_demo.ipynb\" target=\"_parent\"><img src=\"https://colab.research.google.com/assets/colab-badge.svg\" alt=\"Open In Colab\"/></a>"
      ]
    },
    {
      "metadata": {
        "id": "ZOiwMNzL4QDk",
        "colab_type": "code",
        "colab": {
          "base_uri": "https://localhost:8080/",
          "height": 269
        },
        "outputId": "63aa2cbb-33f9-4e3a-8cea-6e7d147d3393"
      },
      "cell_type": "code",
      "source": [
        "# Install a Drive FUSE wrapper.\n",
        "# https://github.com/astrada/google-drive-ocamlfuse\n",
        "!apt-get install -y -qq software-properties-common python-software-properties module-init-tools\n",
        "!add-apt-repository -y ppa:alessandro-strada/ppa 2>&1 > /dev/null\n",
        "!apt-get update -qq 2>&1 > /dev/null\n",
        "!apt-get -y install -qq google-drive-ocamlfuse fuse"
      ],
      "execution_count": 3,
      "outputs": [
        {
          "output_type": "stream",
          "text": [
            "E: Package 'python-software-properties' has no installation candidate\n",
            "Selecting previously unselected package libfuse2:amd64.\n",
            "(Reading database ... 22280 files and directories currently installed.)\n",
            "Preparing to unpack .../libfuse2_2.9.7-1ubuntu1_amd64.deb ...\n",
            "Unpacking libfuse2:amd64 (2.9.7-1ubuntu1) ...\n",
            "Selecting previously unselected package fuse.\n",
            "Preparing to unpack .../fuse_2.9.7-1ubuntu1_amd64.deb ...\n",
            "Unpacking fuse (2.9.7-1ubuntu1) ...\n",
            "Selecting previously unselected package google-drive-ocamlfuse.\n",
            "Preparing to unpack .../google-drive-ocamlfuse_0.7.0-0ubuntu1~ubuntu18.04.1_amd64.deb ...\n",
            "Unpacking google-drive-ocamlfuse (0.7.0-0ubuntu1~ubuntu18.04.1) ...\n",
            "Setting up libfuse2:amd64 (2.9.7-1ubuntu1) ...\n",
            "Processing triggers for libc-bin (2.27-3ubuntu1) ...\n",
            "Setting up fuse (2.9.7-1ubuntu1) ...\n",
            "Setting up google-drive-ocamlfuse (0.7.0-0ubuntu1~ubuntu18.04.1) ...\n"
          ],
          "name": "stdout"
        }
      ]
    },
    {
      "metadata": {
        "id": "w3qLXGgVP_oB",
        "colab_type": "code",
        "colab": {}
      },
      "cell_type": "code",
      "source": [
        "# Generate auth tokens for Colab\n",
        "from google.colab import auth\n",
        "auth.authenticate_user()"
      ],
      "execution_count": 0,
      "outputs": []
    },
    {
      "metadata": {
        "id": "KpT_kwFzQ1vR",
        "colab_type": "code",
        "colab": {
          "base_uri": "https://localhost:8080/",
          "height": 104
        },
        "outputId": "d005c0e7-7f62-4e4b-bd8e-b048c5f7153b"
      },
      "cell_type": "code",
      "source": [
        "# Generate creds for the Drive FUSE library.\n",
        "from oauth2client.client import GoogleCredentials\n",
        "creds = GoogleCredentials.get_application_default()\n",
        "import getpass\n",
        "!google-drive-ocamlfuse -headless -id={creds.client_id} -secret={creds.client_secret} < /dev/null 2>&1 | grep URL\n",
        "vcode = getpass.getpass()\n",
        "!echo {vcode} | google-drive-ocamlfuse -headless -id={creds.client_id} -secret={creds.client_secret}"
      ],
      "execution_count": 5,
      "outputs": [
        {
          "output_type": "stream",
          "text": [
            "Please, open the following URL in a web browser: https://accounts.google.com/o/oauth2/auth?client_id=32555940559.apps.googleusercontent.com&redirect_uri=urn%3Aietf%3Awg%3Aoauth%3A2.0%3Aoob&scope=https%3A%2F%2Fwww.googleapis.com%2Fauth%2Fdrive&response_type=code&access_type=offline&approval_prompt=force\n",
            "··········\n",
            "Please, open the following URL in a web browser: https://accounts.google.com/o/oauth2/auth?client_id=32555940559.apps.googleusercontent.com&redirect_uri=urn%3Aietf%3Awg%3Aoauth%3A2.0%3Aoob&scope=https%3A%2F%2Fwww.googleapis.com%2Fauth%2Fdrive&response_type=code&access_type=offline&approval_prompt=force\n",
            "Please enter the verification code: Access token retrieved correctly.\n"
          ],
          "name": "stdout"
        }
      ]
    },
    {
      "metadata": {
        "id": "jgZxjuGkQ4Sq",
        "colab_type": "code",
        "colab": {
          "base_uri": "https://localhost:8080/",
          "height": 50
        },
        "outputId": "e32dd954-dadc-4a93-a089-9d3c028537bc"
      },
      "cell_type": "code",
      "source": [
        "# Create a directory and mount Google Drive using that directory.\n",
        "!mkdir -p drive\n",
        "!google-drive-ocamlfuse drive"
      ],
      "execution_count": 7,
      "outputs": [
        {
          "output_type": "stream",
          "text": [
            "fuse: mountpoint is not empty\n",
            "fuse: if you are sure this is safe, use the 'nonempty' mount option\n"
          ],
          "name": "stdout"
        }
      ]
    },
    {
      "metadata": {
        "id": "-vhuVYYcQ6Bx",
        "colab_type": "code",
        "colab": {
          "base_uri": "https://localhost:8080/",
          "height": 54
        },
        "outputId": "272efd8a-8b63-455e-9432-92cc0a2cefca"
      },
      "cell_type": "code",
      "source": [
        "# http://pytorch.org/\n",
        "from os import path\n",
        "from wheel.pep425tags import get_abbr_impl, get_impl_ver, get_abi_tag\n",
        "platform = '{}{}-{}'.format(get_abbr_impl(), get_impl_ver(), get_abi_tag())\n",
        "\n",
        "accelerator = 'cu80' if path.exists('/opt/bin/nvidia-smi') else 'cpu'\n",
        "\n",
        "!pip install -q http://download.pytorch.org/whl/{accelerator}/torch-0.4.0-{platform}-linux_x86_64.whl torchvision"
      ],
      "execution_count": 8,
      "outputs": [
        {
          "output_type": "stream",
          "text": [
            "tcmalloc: large alloc 1073750016 bytes == 0x5b28c000 @  0x7f7dcde052a4 0x594e17 0x626104 0x51190a 0x4f5277 0x510c78 0x5119bd 0x4f5277 0x4f3338 0x510fb0 0x5119bd 0x4f5277 0x4f3338 0x510fb0 0x5119bd 0x4f5277 0x4f3338 0x510fb0 0x5119bd 0x4f6070 0x510c78 0x5119bd 0x4f5277 0x4f3338 0x510fb0 0x5119bd 0x4f6070 0x4f3338 0x510fb0 0x5119bd 0x4f6070\n"
          ],
          "name": "stdout"
        }
      ]
    },
    {
      "metadata": {
        "id": "5dn3-UuYQ9FZ",
        "colab_type": "code",
        "colab": {}
      },
      "cell_type": "code",
      "source": [
        "import torch\n",
        "import torch.nn as nn\n",
        "from torch.autograd import Variable\n",
        "import torch.utils.data as Data\n",
        "import torchvision\n",
        "\n",
        "torch.manual_seed(1)\n",
        "\n",
        "import matplotlib.pyplot as plt\n",
        "%matplotlib inline"
      ],
      "execution_count": 0,
      "outputs": []
    },
    {
      "metadata": {
        "id": "fr2HEmPUSNnB",
        "colab_type": "code",
        "colab": {
          "base_uri": "https://localhost:8080/",
          "height": 34
        },
        "outputId": "fda5e6f5-bf9f-4fb9-ead4-28c59f041011"
      },
      "cell_type": "code",
      "source": [
        "EPOCH = 1\n",
        "BATCH_SIZE = 50\n",
        "LR = 0.001\n",
        "DOWNLOAD_MNIST = True\n",
        "device = torch.device(\"cuda\" if torch.cuda.is_available() else \"cpu\")\n",
        "print(device)"
      ],
      "execution_count": 18,
      "outputs": [
        {
          "output_type": "stream",
          "text": [
            "cuda\n"
          ],
          "name": "stdout"
        }
      ]
    },
    {
      "metadata": {
        "id": "_8ePkIGgrPbg",
        "colab_type": "code",
        "colab": {
          "base_uri": "https://localhost:8080/",
          "height": 34
        },
        "outputId": "31fd0683-6899-4b51-ef73-a3a737d75c76"
      },
      "cell_type": "code",
      "source": [
        "!ls"
      ],
      "execution_count": 19,
      "outputs": [
        {
          "output_type": "stream",
          "text": [
            "adc.json  drive  mnist\tsample_data\n"
          ],
          "name": "stdout"
        }
      ]
    },
    {
      "metadata": {
        "id": "OA9e_z-oSlUY",
        "colab_type": "code",
        "colab": {}
      },
      "cell_type": "code",
      "source": [
        "train_data = torchvision.datasets.MNIST(\n",
        "    root='./mnist/', \n",
        "    train=True, \n",
        "    transform=torchvision.transforms.ToTensor(), \n",
        "    download=DOWNLOAD_MNIST,)\n",
        "\n",
        "train_loader = Data.DataLoader(\n",
        "    dataset=train_data, \n",
        "    batch_size=BATCH_SIZE, \n",
        "    shuffle=True)\n",
        "\n",
        "test_data = torchvision.datasets.MNIST(\n",
        "    root='./mnist/', train=False)\n",
        "\n",
        "# !!!!!!!! Change in here !!!!!!!!! #\n",
        "test_x = Variable(torch.unsqueeze(test_data.test_data, dim=1)).type(torch.FloatTensor)[:2000].to(device=device)/255.   # Tensor on GPU\n",
        "test_y = test_data.test_labels[:2000].to(device=device)"
      ],
      "execution_count": 0,
      "outputs": []
    },
    {
      "metadata": {
        "id": "Wm5k06jiSn9B",
        "colab_type": "code",
        "colab": {}
      },
      "cell_type": "code",
      "source": [
        "class CNN(nn.Module):\n",
        "    def __init__(self):\n",
        "        super(CNN, self).__init__()\n",
        "        self.conv1 = nn.Sequential(\n",
        "            nn.Conv2d(in_channels=1, out_channels=16, kernel_size=5, stride=1, padding=2,),                      \n",
        "            nn.ReLU(), \n",
        "            nn.MaxPool2d(kernel_size=2),)\n",
        "        self.conv2 = nn.Sequential(\n",
        "            nn.Conv2d(16, 32, 5, 1, 2), #in out kernel stride padding\n",
        "            nn.ReLU(), \n",
        "            nn.MaxPool2d(2),)\n",
        "        self.out = nn.Linear(32 * 7 * 7, 10)\n",
        "\n",
        "    def forward(self, x):\n",
        "        x = self.conv1(x)\n",
        "        x = self.conv2(x)\n",
        "        x = x.view(x.size(0), -1)\n",
        "        output = self.out(x)\n",
        "        return output"
      ],
      "execution_count": 0,
      "outputs": []
    },
    {
      "metadata": {
        "id": "iucBqXiu71Nw",
        "colab_type": "code",
        "colab": {
          "base_uri": "https://localhost:8080/",
          "height": 235
        },
        "outputId": "fb75a3e8-0b26-4098-ad13-84e2c3ca0c4f"
      },
      "cell_type": "code",
      "source": [
        "cnn = CNN()\n",
        "\n",
        "# !!!!!!!! Change in here !!!!!!!!! #\n",
        "cnn.to(device=device)      # Moves all model parameters and buffers to the GPU."
      ],
      "execution_count": 23,
      "outputs": [
        {
          "output_type": "execute_result",
          "data": {
            "text/plain": [
              "CNN(\n",
              "  (conv1): Sequential(\n",
              "    (0): Conv2d(1, 16, kernel_size=(5, 5), stride=(1, 1), padding=(2, 2))\n",
              "    (1): ReLU()\n",
              "    (2): MaxPool2d(kernel_size=2, stride=2, padding=0, dilation=1, ceil_mode=False)\n",
              "  )\n",
              "  (conv2): Sequential(\n",
              "    (0): Conv2d(16, 32, kernel_size=(5, 5), stride=(1, 1), padding=(2, 2))\n",
              "    (1): ReLU()\n",
              "    (2): MaxPool2d(kernel_size=2, stride=2, padding=0, dilation=1, ceil_mode=False)\n",
              "  )\n",
              "  (out): Linear(in_features=1568, out_features=10, bias=True)\n",
              ")"
            ]
          },
          "metadata": {
            "tags": []
          },
          "execution_count": 23
        }
      ]
    },
    {
      "metadata": {
        "id": "uOwOxU-573AJ",
        "colab_type": "code",
        "colab": {}
      },
      "cell_type": "code",
      "source": [
        "optimizer = torch.optim.Adam(cnn.parameters(), lr=LR)\n",
        "loss_func = nn.CrossEntropyLoss()\n",
        "\n",
        "losses_his = []"
      ],
      "execution_count": 0,
      "outputs": []
    },
    {
      "metadata": {
        "id": "s1fiD7nI74lw",
        "colab_type": "code",
        "colab": {
          "base_uri": "https://localhost:8080/",
          "height": 420
        },
        "outputId": "64c02602-54b9-4299-8eaa-cf69cec5882c"
      },
      "cell_type": "code",
      "source": [
        "for epoch in range(EPOCH):\n",
        "    for step, (x, y) in enumerate(train_loader):\n",
        "\n",
        "        # !!!!!!!! Change in here !!!!!!!!! #\n",
        "        b_x = Variable(x).to(device=device)    # Tensor on GPU\n",
        "        b_y = Variable(y).to(device=device)    # Tensor on GPU\n",
        "\n",
        "        output = cnn(b_x)\n",
        "        loss = loss_func(output, b_y)\n",
        "        losses_his.append(loss.data)\n",
        "        optimizer.zero_grad()\n",
        "        loss.backward()\n",
        "        optimizer.step()\n",
        "\n",
        "        if step % 50 == 0:\n",
        "            test_output = cnn(test_x)\n",
        "\n",
        "            # !!!!!!!! Change in here !!!!!!!!! #\n",
        "            pred_y = torch.max(test_output, 1)[1].to(device=device).data.squeeze()  # move the computation in GPU\n",
        "            \n",
        "            accuracy = (pred_y == test_y).sum().item() / test_y.size(0)\n",
        "            print('Epoch: ', epoch, '| train loss: %.4f' % loss.data, '| test accuracy: %.2f' % accuracy)\n"
      ],
      "execution_count": 25,
      "outputs": [
        {
          "output_type": "stream",
          "text": [
            "Epoch:  0 | train loss: 2.3101 | test accuracy: 0.20\n",
            "Epoch:  0 | train loss: 0.4807 | test accuracy: 0.83\n",
            "Epoch:  0 | train loss: 0.6701 | test accuracy: 0.88\n",
            "Epoch:  0 | train loss: 0.2119 | test accuracy: 0.91\n",
            "Epoch:  0 | train loss: 0.0697 | test accuracy: 0.94\n",
            "Epoch:  0 | train loss: 0.1787 | test accuracy: 0.94\n",
            "Epoch:  0 | train loss: 0.1325 | test accuracy: 0.94\n",
            "Epoch:  0 | train loss: 0.2256 | test accuracy: 0.95\n",
            "Epoch:  0 | train loss: 0.0407 | test accuracy: 0.96\n",
            "Epoch:  0 | train loss: 0.0368 | test accuracy: 0.96\n",
            "Epoch:  0 | train loss: 0.0202 | test accuracy: 0.96\n",
            "Epoch:  0 | train loss: 0.0656 | test accuracy: 0.96\n",
            "Epoch:  0 | train loss: 0.1091 | test accuracy: 0.97\n",
            "Epoch:  0 | train loss: 0.3671 | test accuracy: 0.97\n",
            "Epoch:  0 | train loss: 0.0393 | test accuracy: 0.97\n",
            "Epoch:  0 | train loss: 0.1322 | test accuracy: 0.96\n",
            "Epoch:  0 | train loss: 0.0790 | test accuracy: 0.97\n",
            "Epoch:  0 | train loss: 0.1037 | test accuracy: 0.97\n",
            "Epoch:  0 | train loss: 0.1059 | test accuracy: 0.97\n",
            "Epoch:  0 | train loss: 0.0259 | test accuracy: 0.97\n",
            "Epoch:  0 | train loss: 0.0273 | test accuracy: 0.97\n",
            "Epoch:  0 | train loss: 0.0250 | test accuracy: 0.98\n",
            "Epoch:  0 | train loss: 0.0249 | test accuracy: 0.98\n",
            "Epoch:  0 | train loss: 0.0070 | test accuracy: 0.98\n"
          ],
          "name": "stdout"
        }
      ]
    }
  ]
}